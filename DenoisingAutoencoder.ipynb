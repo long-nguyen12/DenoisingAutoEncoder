{
 "cells": [
  {
   "cell_type": "markdown",
   "metadata": {
    "colab_type": "text",
    "heading_collapsed": true,
    "id": "uuiLrkQdWFBX"
   },
   "source": [
    "## Setup"
   ]
  },
  {
   "cell_type": "code",
   "execution_count": 1,
   "metadata": {
    "ExecuteTime": {
     "end_time": "2019-06-21T17:30:55.607459Z",
     "start_time": "2019-06-21T17:30:55.567772Z"
    },
    "colab": {
     "base_uri": "https://localhost:8080/",
     "height": 122
    },
    "colab_type": "code",
    "executionInfo": {
     "elapsed": 26822,
     "status": "ok",
     "timestamp": 1561141349049,
     "user": {
      "displayName": "Nima Sarang",
      "photoUrl": "https://lh6.googleusercontent.com/-B44uavoHkTg/AAAAAAAAAAI/AAAAAAAAAE0/E3Xor3bNvQY/s64/photo.jpg",
      "userId": "02047349543665182217"
     },
     "user_tz": -270
    },
    "hidden": true,
    "id": "AZYtoefzWHpP",
    "outputId": "6397d6cd-ab5e-406f-c6a1-cd452795bd2e"
   },
   "outputs": [
    {
     "name": "stdout",
     "output_type": "stream",
     "text": [
      "Go to this URL in a browser: https://accounts.google.com/o/oauth2/auth?client_id=947318989803-6bn6qk8qdgf4n4g3pfee6491hc0brc4i.apps.googleusercontent.com&redirect_uri=urn%3Aietf%3Awg%3Aoauth%3A2.0%3Aoob&scope=email%20https%3A%2F%2Fwww.googleapis.com%2Fauth%2Fdocs.test%20https%3A%2F%2Fwww.googleapis.com%2Fauth%2Fdrive%20https%3A%2F%2Fwww.googleapis.com%2Fauth%2Fdrive.photos.readonly%20https%3A%2F%2Fwww.googleapis.com%2Fauth%2Fpeopleapi.readonly&response_type=code\n",
      "\n",
      "Enter your authorization code:\n",
      "··········\n",
      "Mounted at /content/gdrive\n"
     ]
    }
   ],
   "source": [
    "# Google Colab setup\n",
    "# Ignore if you're not running on colabx\n",
    "\n",
    "GDRIVE_PWD = 'DenoisingAutoencoder'\n",
    "\n",
    "try:\n",
    "    from google.colab import drive\n",
    "    import os\n",
    "    IN_COLAB = True\n",
    "except:\n",
    "    IN_COLAB = False\n",
    "    \n",
    "if IN_COLAB:\n",
    "    drive.mount('/content/gdrive', force_remount=True)\n",
    "    root_dir = \"/content/gdrive/My Drive/\"\n",
    "    base_dir = os.path.join(root_dir, GDRIVE_PWD)\n",
    "    \n",
    "    if not os.path.exists(base_dir):\n",
    "        os.makedirs(base_dir)\n",
    "    os.chdir(base_dir)"
   ]
  },
  {
   "cell_type": "code",
   "execution_count": 0,
   "metadata": {
    "ExecuteTime": {
     "end_time": "2019-06-21T17:30:55.991344Z",
     "start_time": "2019-06-21T17:30:55.954922Z"
    },
    "colab": {},
    "colab_type": "code",
    "hidden": true,
    "id": "5hsx12FoRMHg"
   },
   "outputs": [],
   "source": [
    "# os.environ['KMP_DUPLICATE_LIB_OK']='True'"
   ]
  },
  {
   "cell_type": "code",
   "execution_count": 3,
   "metadata": {
    "ExecuteTime": {
     "end_time": "2019-06-21T17:30:56.518856Z",
     "start_time": "2019-06-21T17:30:56.432867Z"
    },
    "colab": {
     "base_uri": "https://localhost:8080/",
     "height": 34
    },
    "colab_type": "code",
    "executionInfo": {
     "elapsed": 2783,
     "status": "ok",
     "timestamp": 1561141375451,
     "user": {
      "displayName": "Nima Sarang",
      "photoUrl": "https://lh6.googleusercontent.com/-B44uavoHkTg/AAAAAAAAAAI/AAAAAAAAAE0/E3Xor3bNvQY/s64/photo.jpg",
      "userId": "02047349543665182217"
     },
     "user_tz": -270
    },
    "hidden": true,
    "id": "ANW46hypWBQF",
    "outputId": "2cbbe038-f53e-4e98-c8b2-50afbd894824",
    "run_control": {
     "marked": false
    }
   },
   "outputs": [
    {
     "name": "stderr",
     "output_type": "stream",
     "text": [
      "Using TensorFlow backend.\n"
     ]
    }
   ],
   "source": [
    "%reload_ext autoreload\n",
    "%autoreload 2\n",
    "%matplotlib inline\n",
    "\n",
    "import keras\n",
    "from keras import backend as K\n",
    "import numpy as np\n",
    "import os\n",
    "import matplotlib.pylab as plt"
   ]
  },
  {
   "cell_type": "markdown",
   "metadata": {
    "ExecuteTime": {
     "end_time": "2019-06-21T17:00:31.617807Z",
     "start_time": "2019-06-21T17:00:31.578039Z"
    },
    "colab_type": "text",
    "hidden": true,
    "id": "3nOIF3jzRMHr"
   },
   "source": [
    "**Create necessary directories**"
   ]
  },
  {
   "cell_type": "code",
   "execution_count": 0,
   "metadata": {
    "ExecuteTime": {
     "end_time": "2019-06-21T17:30:57.451211Z",
     "start_time": "2019-06-21T17:30:57.377401Z"
    },
    "colab": {},
    "colab_type": "code",
    "hidden": true,
    "id": "dv9TRCAdWupn"
   },
   "outputs": [],
   "source": [
    "P_MODELSAVE = 'saved_models'\n",
    "P_LOGS = 'logs'\n",
    "P_IMGSAVE = 'saved_images'\n",
    "\n",
    "dirs = [P_MODELSAVE, P_LOGS, P_IMGSAVE]\n",
    "\n",
    "for d in dirs:\n",
    "    if not os.path.exists(d):\n",
    "        os.makedirs(d)"
   ]
  },
  {
   "cell_type": "markdown",
   "metadata": {
    "ExecuteTime": {
     "end_time": "2019-06-21T17:01:01.488813Z",
     "start_time": "2019-06-21T17:01:01.451797Z"
    },
    "colab_type": "text",
    "hidden": true,
    "id": "rbK7hWBORMHw"
   },
   "source": [
    "**Important parameteres**"
   ]
  },
  {
   "cell_type": "code",
   "execution_count": 0,
   "metadata": {
    "ExecuteTime": {
     "end_time": "2019-06-21T17:30:58.722277Z",
     "start_time": "2019-06-21T17:30:58.648226Z"
    },
    "colab": {},
    "colab_type": "code",
    "hidden": true,
    "id": "AjyCnxReWBQP"
   },
   "outputs": [],
   "source": [
    "dataset_path = 'data/images'\n",
    "batch_size = 20\n",
    "epochs = 150\n",
    "input_shape = (256, 256)\n",
    "noise_factor = 1\n",
    "\n",
    "# the path to save the weight of the model\n",
    "saved_weight = os.path.join(P_MODELSAVE, 'dataweights.{epoch:02d}-{val_acc:.2f}.hdf5')"
   ]
  },
  {
   "cell_type": "markdown",
   "metadata": {
    "colab_type": "text",
    "heading_collapsed": true,
    "id": "I2LS5uGGWBQb"
   },
   "source": [
    "## DataGenerator"
   ]
  },
  {
   "cell_type": "markdown",
   "metadata": {
    "colab_type": "text",
    "hidden": true,
    "id": "Z8Ak-29qRMH1"
   },
   "source": [
    "### Add random crop functionality"
   ]
  },
  {
   "cell_type": "markdown",
   "metadata": {
    "colab_type": "text",
    "hidden": true,
    "id": "8ZwnB1P1RMH3"
   },
   "source": [
    "**Add random crop fucntionality to Keras' ImageDataGenerator by overriding 'load_img' method in its module**"
   ]
  },
  {
   "cell_type": "code",
   "execution_count": 0,
   "metadata": {
    "ExecuteTime": {
     "end_time": "2019-06-21T17:31:01.074096Z",
     "start_time": "2019-06-21T17:31:00.993285Z"
    },
    "colab": {},
    "colab_type": "code",
    "hidden": true,
    "id": "2XFyd28lWBQc"
   },
   "outputs": [],
   "source": [
    "from PIL import Image as pil_image\n",
    "\n",
    "def random_crop(img, random_crop_size):\n",
    "    width, height = img.size # PIL format\n",
    "    dx, dy = random_crop_size\n",
    "    x = np.random.randint(0, width - dx + 1)\n",
    "    y = np.random.randint(0, height - dy + 1)\n",
    "    return img.crop((x, y, x+dx, y+dy))\n",
    "\n",
    "\n",
    "def load_img_extended(path, grayscale=False, color_mode='rgb', target_size=None,\n",
    "                      interpolation='nearest'):\n",
    "    if grayscale is True:\n",
    "        warnings.warn('grayscale is deprecated. Please use '\n",
    "                      'color_mode = \"grayscale\"')\n",
    "        color_mode = 'grayscale'\n",
    "    if pil_image is None:\n",
    "        raise ImportError('Could not import PIL.Image. '\n",
    "                          'The use of `array_to_img` requires PIL.')\n",
    "    img = pil_image.open(path)\n",
    "    if color_mode == 'grayscale':\n",
    "        if img.mode != 'L':\n",
    "            img = img.convert('L')\n",
    "    elif color_mode == 'rgba':\n",
    "        if img.mode != 'RGBA':\n",
    "            img = img.convert('RGBA')\n",
    "    elif color_mode == 'rgb':\n",
    "        if img.mode != 'RGB':\n",
    "            img = img.convert('RGB')\n",
    "    else:\n",
    "        raise ValueError('color_mode must be \"grayscale\", \"rbg\", or \"rgba\"')\n",
    "    \n",
    "    if target_size is not None:\n",
    "        width_height_tuple = (target_size[1], target_size[0])\n",
    "        if img.size != width_height_tuple:\n",
    "            img = random_crop(img, width_height_tuple) # here comes the magic\n",
    "    return img"
   ]
  },
  {
   "cell_type": "code",
   "execution_count": 0,
   "metadata": {
    "ExecuteTime": {
     "end_time": "2019-06-21T17:31:01.552748Z",
     "start_time": "2019-06-21T17:31:01.475410Z"
    },
    "colab": {},
    "colab_type": "code",
    "hidden": true,
    "id": "DRtdei7bWBQf"
   },
   "outputs": [],
   "source": [
    "# Overriding method\n",
    "keras.preprocessing.image.image.load_img = load_img_extended"
   ]
  },
  {
   "cell_type": "markdown",
   "metadata": {
    "colab_type": "text",
    "hidden": true,
    "id": "SvkXg1r6RMIB"
   },
   "source": [
    "### ImageDataGenerator"
   ]
  },
  {
   "cell_type": "markdown",
   "metadata": {
    "colab_type": "text",
    "hidden": true,
    "id": "uTVijOr0RMIC"
   },
   "source": [
    "**ImageDataGenerator arguments:**"
   ]
  },
  {
   "cell_type": "code",
   "execution_count": 0,
   "metadata": {
    "ExecuteTime": {
     "end_time": "2019-06-21T17:31:02.784468Z",
     "start_time": "2019-06-21T17:31:02.705235Z"
    },
    "colab": {},
    "colab_type": "code",
    "hidden": true,
    "id": "15WWgys5WBQi",
    "scrolled": true
   },
   "outputs": [],
   "source": [
    "from keras.preprocessing.image import ImageDataGenerator\n",
    "\n",
    "data_gen_args = dict(\n",
    "#     featurewise_center=True,\n",
    "#     featurewise_std_normalization=True,\n",
    "    rotation_range=20,\n",
    "    width_shift_range=0.2,\n",
    "    height_shift_range=0.2,\n",
    "    brightness_range=[0.5, 1.2],\n",
    "    shear_range=0.01,\n",
    "    horizontal_flip=True,\n",
    "    rescale=1/255,\n",
    "    fill_mode='reflect',\n",
    "    data_format='channels_last')\n",
    "\n",
    "data_flow_args = dict(\n",
    "    target_size=input_shape,\n",
    "    batch_size=batch_size,\n",
    "    class_mode='input') # Since we want to reconstruct the input"
   ]
  },
  {
   "cell_type": "markdown",
   "metadata": {
    "colab_type": "text",
    "hidden": true,
    "id": "Nvk7ZXjVRMII"
   },
   "source": [
    "**Add gaussian noise to the input after augmentations have taken place.**  \n",
    "**Inspired by** https://jkjung-avt.github.io/keras-image-cropping/"
   ]
  },
  {
   "cell_type": "code",
   "execution_count": 0,
   "metadata": {
    "ExecuteTime": {
     "end_time": "2019-06-21T17:31:03.890973Z",
     "start_time": "2019-06-21T17:31:03.816481Z"
    },
    "colab": {},
    "colab_type": "code",
    "hidden": true,
    "id": "W8ySfUwfWBQl"
   },
   "outputs": [],
   "source": [
    "def noisy_generator(batches):\n",
    "    for batch_x, batch_y in batches:\n",
    "        sigma = np.random.exponential(0.15)\n",
    "        noise = noise_factor * np.random.normal(scale=sigma, size=batch_x.shape)\n",
    "        batch_noisy = np.clip(batch_x + noise, 0, 1)\n",
    "        yield (batch_noisy, batch_y)"
   ]
  },
  {
   "cell_type": "markdown",
   "metadata": {
    "colab_type": "text",
    "heading_collapsed": true,
    "id": "D9MvVj1cWBQo"
   },
   "source": [
    "## Model"
   ]
  },
  {
   "cell_type": "code",
   "execution_count": 0,
   "metadata": {
    "ExecuteTime": {
     "end_time": "2019-06-21T17:31:04.968915Z",
     "start_time": "2019-06-21T17:31:04.872818Z"
    },
    "colab": {},
    "colab_type": "code",
    "hidden": true,
    "id": "sfXwNeaRWBQp"
   },
   "outputs": [],
   "source": [
    "import keras.layers as layers\n",
    "import keras.models as models\n",
    "from keras.initializers import orthogonal\n",
    "\n",
    "\n",
    "def Conv2DLayer(x, filters, kernel, strides, padding, block_id, kernel_init=orthogonal()):\n",
    "    prefix = f'block_{block_id}_'\n",
    "    x = layers.Conv2D(filters, kernel_size=kernel, strides=strides, padding=padding,\n",
    "                      kernel_initializer=kernel_init, name=prefix+'conv')(x)\n",
    "    x = layers.LeakyReLU(name=prefix+'lrelu')(x)\n",
    "    x = layers.Dropout(0.2, name=prefix+'drop')((x))\n",
    "    x = layers.BatchNormalization(name=prefix+'conv_bn')(x)\n",
    "    return x\n",
    "\n",
    "def Transpose_Conv2D(x, filters, kernel, strides, padding, block_id, kernel_init=orthogonal()):\n",
    "    prefix = f'block_{block_id}_'\n",
    "    x = layers.Conv2DTranspose(filters, kernel_size=kernel, strides=strides, padding=padding,\n",
    "                               kernel_initializer=kernel_init, name=prefix+'de-conv')(x)\n",
    "    x = layers.LeakyReLU(name=prefix+'lrelu')(x)\n",
    "    x = layers.Dropout(0.2, name=prefix+'drop')((x))\n",
    "    x = layers.BatchNormalization(name=prefix+'conv_bn')(x)\n",
    "    return x\n",
    "\n",
    "\n",
    "\n",
    "def AutoEncdoer(input_shape):\n",
    "    inputs = layers.Input(shape=input_shape)\n",
    "    \n",
    "    # 256 x 256\n",
    "    conv1 = Conv2DLayer(inputs, 64, 3, strides=1, padding='same', block_id=1)\n",
    "    conv2 = Conv2DLayer(conv1, 64, 3, strides=2, padding='same', block_id=2)\n",
    "    \n",
    "    # 128 x 128\n",
    "    conv3 = Conv2DLayer(conv2, 128, 5, strides=2, padding='same', block_id=3)\n",
    "    \n",
    "    # 64 x 64\n",
    "    conv4 = Conv2DLayer(conv3, 128, 3, strides=1, padding='same', block_id=4)\n",
    "    conv5 = Conv2DLayer(conv4, 256, 5, strides=2, padding='same', block_id=5)\n",
    "    \n",
    "    # 32 x 32\n",
    "    conv6 = Conv2DLayer(conv5, 512, 3, strides=2, padding='same', block_id=6)\n",
    "    \n",
    "    # 16 x 16\n",
    "    deconv1 = Transpose_Conv2D(conv6, 512, 3, strides=2, padding='same', block_id=7)\n",
    "    \n",
    "    # 32 x 32\n",
    "    skip1 = layers.concatenate([deconv1, conv5], name='skip1')\n",
    "    conv7 = Conv2DLayer(skip1, 256, 3, strides=1, padding='same', block_id=8)\n",
    "    deconv2 = Transpose_Conv2D(conv7, 128, 3, strides=2, padding='same', block_id=9)\n",
    "    \n",
    "    # 64 x 64\n",
    "    skip2 = layers.concatenate([deconv2, conv3], name='skip2')\n",
    "    conv8 = Conv2DLayer(skip2, 128, 5, strides=1, padding='same', block_id=10)\n",
    "    deconv3 = Transpose_Conv2D(conv8, 64, 3, strides=2, padding='same', block_id=11)\n",
    "    \n",
    "    # 128 x 128\n",
    "    skip3 = layers.concatenate([deconv3, conv2], name='skip3')\n",
    "    conv9 = Conv2DLayer(skip3, 64, 5, strides=1, padding='same', block_id=12)\n",
    "    deconv4 = Transpose_Conv2D(conv9, 64, 3, strides=2, padding='same', block_id=13)\n",
    "    \n",
    "    # 256 x 256\n",
    "    skip3 = layers.concatenate([deconv4, conv1])\n",
    "    conv10 = layers.Conv2D(3, 3, strides=1, padding='same', activation='sigmoid',\n",
    "                       kernel_initializer=orthogonal(), name='final_conv')(skip3)\n",
    "\n",
    "    \n",
    "    return models.Model(inputs=inputs, outputs=conv10)"
   ]
  },
  {
   "cell_type": "markdown",
   "metadata": {
    "colab_type": "text",
    "heading_collapsed": true,
    "id": "_4O3MiCuWBQr"
   },
   "source": [
    "## Train"
   ]
  },
  {
   "cell_type": "markdown",
   "metadata": {
    "colab_type": "text",
    "hidden": true,
    "id": "zZWU0IHzRMIc"
   },
   "source": [
    "**Laod data**"
   ]
  },
  {
   "cell_type": "code",
   "execution_count": 0,
   "metadata": {
    "colab": {
     "base_uri": "https://localhost:8080/",
     "height": 51
    },
    "colab_type": "code",
    "executionInfo": {
     "elapsed": 5099,
     "status": "ok",
     "timestamp": 1561113524597,
     "user": {
      "displayName": "Nima Sarang",
      "photoUrl": "https://lh6.googleusercontent.com/-B44uavoHkTg/AAAAAAAAAAI/AAAAAAAAAE0/E3Xor3bNvQY/s64/photo.jpg",
      "userId": "02047349543665182217"
     },
     "user_tz": -270
    },
    "hidden": true,
    "id": "GtqDuwX1WBQs",
    "outputId": "9515d1a3-a4a1-4135-a2df-35f72723924b"
   },
   "outputs": [
    {
     "name": "stdout",
     "output_type": "stream",
     "text": [
      "Found 200 images belonging to 1 classes.\n",
      "Found 200 images belonging to 1 classes.\n"
     ]
    }
   ],
   "source": [
    "train_datagen = ImageDataGenerator(**data_gen_args)\n",
    "val_datagen = ImageDataGenerator(**data_gen_args)\n",
    "\n",
    "train_batches = train_datagen.flow_from_directory(\n",
    "    dataset_path + '/train',\n",
    "    **data_flow_args)\n",
    "\n",
    "val_batches = val_datagen.flow_from_directory(\n",
    "    dataset_path + '/train',\n",
    "    **data_flow_args)\n",
    "\n",
    "\n",
    "train_noisy_batches = noisy_generator(train_batches)\n",
    "val_noisy_batches = noisy_generator(val_batches)"
   ]
  },
  {
   "cell_type": "markdown",
   "metadata": {
    "colab_type": "text",
    "hidden": true,
    "id": "FQLVTML0RMIk"
   },
   "source": [
    "**Build and compile the model**"
   ]
  },
  {
   "cell_type": "code",
   "execution_count": 0,
   "metadata": {
    "colab": {},
    "colab_type": "code",
    "hidden": true,
    "id": "BeDuRemjRMIl"
   },
   "outputs": [],
   "source": [
    "# !pip install keras-adabound"
   ]
  },
  {
   "cell_type": "code",
   "execution_count": 0,
   "metadata": {
    "colab": {},
    "colab_type": "code",
    "hidden": true,
    "id": "OIEKXsASWBQv"
   },
   "outputs": [],
   "source": [
    "from keras.optimizers import SGD, Adam\n",
    "\n",
    "model = AutoEncdoer((*input_shape, 3))\n",
    "# model_opt = SGD(lr=0.005, decay=1-0.995, momentum=0.7, nesterov=False)\n",
    "model_opt = Adam(lr=0.002)\n",
    "\n",
    "model.compile(optimizer=model_opt, loss='mse', metrics=['accuracy'])"
   ]
  },
  {
   "cell_type": "markdown",
   "metadata": {
    "colab_type": "text",
    "hidden": true,
    "id": "VblAPHC8RMIq"
   },
   "source": [
    "**Some useful callbacks**"
   ]
  },
  {
   "cell_type": "code",
   "execution_count": 0,
   "metadata": {
    "colab": {},
    "colab_type": "code",
    "hidden": true,
    "id": "D1WO5IddWBQy"
   },
   "outputs": [],
   "source": [
    "modelchk = keras.callbacks.ModelCheckpoint(saved_weight, \n",
    "                                      monitor='val_acc', \n",
    "                                      verbose=1,\n",
    "                                      save_best_only=True, \n",
    "                                      save_weights_only=False,\n",
    "                                      mode='auto',\n",
    "                                      period=2)\n",
    "\n",
    "tensorboard = keras.callbacks.TensorBoard(log_dir=P_LOGS,\n",
    "                                          histogram_freq=0,\n",
    "                                          write_graph=True,\n",
    "                                          write_images=True)\n",
    "\n",
    "csv_logger = keras.callbacks.CSVLogger(f'{P_LOGS}/keras_log.csv',\n",
    "                                       append=True)"
   ]
  },
  {
   "cell_type": "code",
   "execution_count": 0,
   "metadata": {
    "colab": {},
    "colab_type": "code",
    "hidden": true,
    "id": "3mLZXG01WBQ1"
   },
   "outputs": [],
   "source": [
    "model.fit_generator(train_noisy_batches,\n",
    "                    steps_per_epoch = train_batches.samples // batch_size,\n",
    "                    epochs=epochs,\n",
    "                    verbose=1, \n",
    "                    validation_data=val_noisy_batches,\n",
    "                    validation_steps = train_batches.samples // batch_size,\n",
    "                    callbacks=[modelchk, tensorboard, csv_logger],\n",
    "                    use_multiprocessing=True)"
   ]
  },
  {
   "cell_type": "markdown",
   "metadata": {
    "colab_type": "text",
    "heading_collapsed": true,
    "id": "pFG7Yh3UC4gQ"
   },
   "source": [
    "## Evaluation"
   ]
  },
  {
   "cell_type": "code",
   "execution_count": 0,
   "metadata": {
    "ExecuteTime": {
     "end_time": "2019-06-21T17:31:22.685496Z",
     "start_time": "2019-06-21T17:31:16.161701Z"
    },
    "colab": {},
    "colab_type": "code",
    "hidden": true,
    "id": "nj6xcn9wRMI2"
   },
   "outputs": [],
   "source": [
    "model = keras.models.load_model(os.path.join(P_MODELSAVE,\n",
    "                                            'phase2_weights.01-0.86.hdf5'))"
   ]
  },
  {
   "cell_type": "code",
   "execution_count": 0,
   "metadata": {
    "ExecuteTime": {
     "end_time": "2019-06-21T18:15:01.012695Z",
     "start_time": "2019-06-21T18:15:00.812769Z"
    },
    "colab": {
     "base_uri": "https://localhost:8080/",
     "height": 34
    },
    "colab_type": "code",
    "executionInfo": {
     "elapsed": 1904,
     "status": "ok",
     "timestamp": 1561121683086,
     "user": {
      "displayName": "Nima Sarang",
      "photoUrl": "https://lh6.googleusercontent.com/-B44uavoHkTg/AAAAAAAAAAI/AAAAAAAAAE0/E3Xor3bNvQY/s64/photo.jpg",
      "userId": "02047349543665182217"
     },
     "user_tz": -270
    },
    "hidden": true,
    "id": "Zgr-JhhLWBQ3",
    "outputId": "d6e818ea-2c41-4c5f-97b1-c8f6cc84ff71"
   },
   "outputs": [
    {
     "name": "stdout",
     "output_type": "stream",
     "text": [
      "Found 200 images belonging to 1 classes.\n"
     ]
    }
   ],
   "source": [
    "test_datagen = ImageDataGenerator(**data_gen_args)\n",
    "\n",
    "test_batches = test_datagen.flow_from_directory(\n",
    "    dataset_path + '/test',\n",
    "    **data_flow_args)\n",
    "\n",
    "test_noisy_batches = noisy_generator(test_batches)"
   ]
  },
  {
   "cell_type": "code",
   "execution_count": 0,
   "metadata": {
    "ExecuteTime": {
     "end_time": "2019-06-21T18:15:02.516709Z",
     "start_time": "2019-06-21T18:15:01.736980Z"
    },
    "colab": {},
    "colab_type": "code",
    "hidden": true,
    "id": "ZUQgNu5IRMI7"
   },
   "outputs": [],
   "source": [
    "X, y = next(test_noisy_batches)"
   ]
  },
  {
   "cell_type": "code",
   "execution_count": 0,
   "metadata": {
    "ExecuteTime": {
     "end_time": "2019-06-21T18:15:36.725417Z",
     "start_time": "2019-06-21T18:15:03.226866Z"
    },
    "colab": {},
    "colab_type": "code",
    "hidden": true,
    "id": "w6Ij3ApQRMI-",
    "outputId": "be4851ff-9573-4dfd-d5d7-88800dd4aff5"
   },
   "outputs": [
    {
     "name": "stdout",
     "output_type": "stream",
     "text": [
      "20/20 [==============================] - 33s 2s/step\n",
      "Test loss: 0.000924995809327811\n",
      "Test accuracy: 0.9209556579589844\n"
     ]
    }
   ],
   "source": [
    "score = model.evaluate(X, y, verbose=1)\n",
    "print('Test loss:', score[0])\n",
    "print('Test accuracy:', score[1])"
   ]
  },
  {
   "cell_type": "code",
   "execution_count": 0,
   "metadata": {
    "ExecuteTime": {
     "end_time": "2019-06-21T18:15:59.854382Z",
     "start_time": "2019-06-21T18:15:37.307538Z"
    },
    "colab": {},
    "colab_type": "code",
    "hidden": true,
    "id": "Ir0XXZ-ARMJB"
   },
   "outputs": [],
   "source": [
    "decoded_imgs = model.predict(X)"
   ]
  },
  {
   "cell_type": "code",
   "execution_count": 0,
   "metadata": {
    "ExecuteTime": {
     "end_time": "2019-06-21T18:16:10.504252Z",
     "start_time": "2019-06-21T18:16:00.403770Z"
    },
    "colab": {},
    "colab_type": "code",
    "hidden": true,
    "id": "hdI3AnH2WBRI",
    "run_control": {
     "marked": true
    },
    "scrolled": true
   },
   "outputs": [],
   "source": [
    "import matplotlib.pyplot as plt\n",
    "\n",
    "n = 5\n",
    "\n",
    "plt.figure(figsize=(40, 15))\n",
    "for i in range(n):\n",
    "    ax = plt.subplot(2, n, i + 1)\n",
    "    plt.imshow(X[i])\n",
    "    ax.axis('off')\n",
    "\n",
    "    ax = plt.subplot(2, n, i + n + 1)\n",
    "    plt.imshow(decoded_imgs[i])\n",
    "    ax.axis('off')\n",
    "\n",
    "plt.show()"
   ]
  },
  {
   "cell_type": "markdown",
   "metadata": {
    "colab_type": "text",
    "heading_collapsed": true,
    "id": "9ZFnvkZdWBRL"
   },
   "source": [
    "## Tensorboard"
   ]
  },
  {
   "cell_type": "code",
   "execution_count": 90,
   "metadata": {
    "colab": {
     "base_uri": "https://localhost:8080/",
     "height": 68
    },
    "colab_type": "code",
    "executionInfo": {
     "elapsed": 20617,
     "status": "ok",
     "timestamp": 1561145602146,
     "user": {
      "displayName": "Nima Sarang",
      "photoUrl": "https://lh6.googleusercontent.com/-B44uavoHkTg/AAAAAAAAAAI/AAAAAAAAAE0/E3Xor3bNvQY/s64/photo.jpg",
      "userId": "02047349543665182217"
     },
     "user_tz": -270
    },
    "hidden": true,
    "id": "DJwVnPkkJjHa",
    "outputId": "9bd26dcd-8e47-467b-87e7-3910a8652743"
   },
   "outputs": [
    {
     "name": "stdout",
     "output_type": "stream",
     "text": [
      "\u001b[K     |████████████████████████████████| 79.1MB 1.9MB/s \n",
      "\u001b[K     |████████████████████████████████| 450kB 46.1MB/s \n",
      "\u001b[K     |████████████████████████████████| 3.2MB 50.7MB/s \n",
      "\u001b[?25h"
     ]
    }
   ],
   "source": [
    "!pip install -q tf-nightly-2.0-preview"
   ]
  },
  {
   "cell_type": "code",
   "execution_count": 0,
   "metadata": {
    "colab": {},
    "colab_type": "code",
    "hidden": true,
    "id": "kRtakZQGJWEi"
   },
   "outputs": [],
   "source": [
    "%load_ext tensorboard\n",
    "%tensorboard --logdir {P_TBOARD}"
   ]
  }
 ],
 "metadata": {
  "accelerator": "GPU",
  "colab": {
   "collapsed_sections": [
    "D9MvVj1cWBQo"
   ],
   "name": "Autoencoder-Keras.ipynb",
   "provenance": [],
   "version": "0.3.2"
  },
  "kernelspec": {
   "display_name": "Python 3",
   "language": "python",
   "name": "python3"
  },
  "language_info": {
   "codemirror_mode": {
    "name": "ipython",
    "version": 3
   },
   "file_extension": ".py",
   "mimetype": "text/x-python",
   "name": "python",
   "nbconvert_exporter": "python",
   "pygments_lexer": "ipython3",
   "version": "3.6.8"
  },
  "toc": {
   "base_numbering": 1,
   "nav_menu": {},
   "number_sections": true,
   "sideBar": true,
   "skip_h1_title": false,
   "title_cell": "Table of Contents",
   "title_sidebar": "Contents",
   "toc_cell": false,
   "toc_position": {},
   "toc_section_display": true,
   "toc_window_display": false
  },
  "varInspector": {
   "cols": {
    "lenName": 16,
    "lenType": 16,
    "lenVar": 40
   },
   "kernels_config": {
    "python": {
     "delete_cmd_postfix": "",
     "delete_cmd_prefix": "del ",
     "library": "var_list.py",
     "varRefreshCmd": "print(var_dic_list())"
    },
    "r": {
     "delete_cmd_postfix": ") ",
     "delete_cmd_prefix": "rm(",
     "library": "var_list.r",
     "varRefreshCmd": "cat(var_dic_list()) "
    }
   },
   "types_to_exclude": [
    "module",
    "function",
    "builtin_function_or_method",
    "instance",
    "_Feature"
   ],
   "window_display": false
  }
 },
 "nbformat": 4,
 "nbformat_minor": 1
}
